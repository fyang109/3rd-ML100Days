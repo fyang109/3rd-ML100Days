{
 "cells": [
  {
   "cell_type": "markdown",
   "metadata": {},
   "source": [
    "# 作業\n",
    "* 試著想想看, 非監督學習是否有可能使用評價函數 (Metric) 來鑑別好壞呢?  \n",
    "(Hint : 可以分為 \"有目標值\" 與 \"無目標值\" 兩個方向思考)\n",
    "\n",
    ">Ans:  \n",
    "無監督學習主要是為了挖掘數據中的局部關係(locality)或者局部和全局之間的關係，往往評估方法也都是依賴於(i)密度或距離(ii)統計學手段(iii )監督學習的方法，有目標值評價涵數類似以分類方式進行操作，例如準確率(accuracy)...等方法，無目標值則可透過距離度量和密度估計進行判斷方法。  \n",
    "Ref. https://www.zhihu.com/question/30855292"
   ]
  },
  {
   "cell_type": "code",
   "execution_count": null,
   "metadata": {
    "collapsed": true
   },
   "outputs": [],
   "source": []
  }
 ],
 "metadata": {
  "kernelspec": {
   "display_name": "Python 3",
   "language": "python",
   "name": "python3"
  },
  "language_info": {
   "codemirror_mode": {
    "name": "ipython",
    "version": 3
   },
   "file_extension": ".py",
   "mimetype": "text/x-python",
   "name": "python",
   "nbconvert_exporter": "python",
   "pygments_lexer": "ipython3",
   "version": "3.7.3"
  }
 },
 "nbformat": 4,
 "nbformat_minor": 1
}
