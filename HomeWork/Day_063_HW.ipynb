{
 "cells": [
  {
   "cell_type": "markdown",
   "metadata": {},
   "source": [
    "# 作業\n",
    "* 在精簡深度學習的方式上 : 卷積類神經 (CNN) 採用像素遠近，而遞歸類神經 (RNN) 採用著則是時間遠近\n",
    "* 那麼，既然有著類似的設計精神，兩者是否有可能互換應用呢?"
   ]
  },
  {
   "cell_type": "markdown",
   "metadata": {
    "collapsed": true
   },
   "source": [
    ">Ans:   \n",
    "* 卷積類神經(CNN) → 時間序(1D CNN)  \n",
    "適用於傳感器數據（例如陀螺儀或加速度計數據）的時間序列分析  \n",
    "Ref：https://kknews.cc/code/z5vg5oq.html  \n",
    "* 遞歸類神經(RNN) → 圖像\n",
    "適用於連續性的影像內容，可使用 RNN 及 LSTM 分析  \n",
    "Ref：https://blog.csdn.net/Dark_Scope/article/details/47056361\n"
   ]
  },
  {
   "cell_type": "code",
   "execution_count": null,
   "metadata": {},
   "outputs": [],
   "source": []
  }
 ],
 "metadata": {
  "kernelspec": {
   "display_name": "Python 3",
   "language": "python",
   "name": "python3"
  },
  "language_info": {
   "codemirror_mode": {
    "name": "ipython",
    "version": 3
   },
   "file_extension": ".py",
   "mimetype": "text/x-python",
   "name": "python",
   "nbconvert_exporter": "python",
   "pygments_lexer": "ipython3",
   "version": "3.7.3"
  }
 },
 "nbformat": 4,
 "nbformat_minor": 2
}
