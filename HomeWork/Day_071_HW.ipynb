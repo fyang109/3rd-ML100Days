{
 "cells": [
  {
   "cell_type": "markdown",
   "metadata": {
    "colab_type": "text",
    "id": "cj4tE8e8iUtO"
   },
   "source": [
    "#   \n",
    "\n",
    "# 作業目標:\n",
    "\n",
    "    1. 藉由固定的 dataset, 來驗證不同loss function\n",
    "    2. Dataset 的特性跟我們選用的loss function 對accrancy 的影響\n",
    "    \n",
    "    \n",
    "# 作業重點: \n",
    "    請分別選用 \"MSE\", \"binary _crossentropy\"\n",
    "    查看Train/test accurancy and loss rate\n",
    "    "
   ]
  },
  {
   "cell_type": "markdown",
   "metadata": {
    "colab_type": "text",
    "id": "R51J4KyyiUsL"
   },
   "source": [
    "# 導入必要的函數"
   ]
  },
  {
   "cell_type": "code",
   "execution_count": 1,
   "metadata": {
    "colab": {},
    "colab_type": "code",
    "id": "Qd68OQjciUsM"
   },
   "outputs": [
    {
     "name": "stderr",
     "output_type": "stream",
     "text": [
      "Using TensorFlow backend.\n"
     ]
    }
   ],
   "source": [
    "from keras.datasets import cifar10\n",
    "import numpy as np\n",
    "np.random.seed(10)"
   ]
  },
  {
   "cell_type": "markdown",
   "metadata": {
    "colab_type": "text",
    "id": "GxKuzQLQiUsP"
   },
   "source": [
    "# 資料準備"
   ]
  },
  {
   "cell_type": "code",
   "execution_count": 2,
   "metadata": {
    "colab": {},
    "colab_type": "code",
    "id": "MIbFZdTCiUsQ"
   },
   "outputs": [],
   "source": [
    "#取得Keras Dataset\n",
    "(x_img_train,y_label_train),(x_img_test,y_label_test)=cifar10.load_data()"
   ]
  },
  {
   "cell_type": "code",
   "execution_count": 3,
   "metadata": {
    "colab": {},
    "colab_type": "code",
    "id": "J8CJVjNOiUsS"
   },
   "outputs": [
    {
     "name": "stdout",
     "output_type": "stream",
     "text": [
      "train data: images: (50000, 32, 32, 3)  labels: (50000, 1)\n",
      "test  data: images: (10000, 32, 32, 3)  labels: (10000, 1)\n"
     ]
    }
   ],
   "source": [
    "#確認 CIFAR10 Dataset 資料維度\n",
    "print(\"train data:\",'images:',x_img_train.shape, \" labels:\",y_label_train.shape) \n",
    "print(\"test  data:\",'images:',x_img_test.shape , \" labels:\",y_label_test.shape) "
   ]
  },
  {
   "cell_type": "code",
   "execution_count": 4,
   "metadata": {
    "colab": {},
    "colab_type": "code",
    "id": "V3P6P4DXiUsV"
   },
   "outputs": [],
   "source": [
    "#資料正規化\n",
    "x_img_train_normalize = x_img_train.astype('float32') / 255.0\n",
    "x_img_test_normalize = x_img_test.astype('float32') / 255.0"
   ]
  },
  {
   "cell_type": "code",
   "execution_count": 5,
   "metadata": {
    "colab": {},
    "colab_type": "code",
    "id": "vsDyjKYliUsX"
   },
   "outputs": [
    {
     "data": {
      "text/plain": [
       "(10000, 10)"
      ]
     },
     "execution_count": 5,
     "metadata": {},
     "output_type": "execute_result"
    }
   ],
   "source": [
    "#針對Label 做 ONE HOT ENCODE\n",
    "from keras.utils import np_utils\n",
    "y_label_train_OneHot = np_utils.to_categorical(y_label_train)\n",
    "y_label_test_OneHot = np_utils.to_categorical(y_label_test)\n",
    "y_label_test_OneHot.shape"
   ]
  },
  {
   "cell_type": "markdown",
   "metadata": {
    "colab_type": "text",
    "id": "RutW2OtgiUsZ"
   },
   "source": [
    "# 建立模型"
   ]
  },
  {
   "cell_type": "code",
   "execution_count": 6,
   "metadata": {
    "colab": {},
    "colab_type": "code",
    "id": "ED7dqe1YiUsm"
   },
   "outputs": [
    {
     "name": "stdout",
     "output_type": "stream",
     "text": [
      "Model: \"sequential_1\"\n",
      "_________________________________________________________________\n",
      "Layer (type)                 Output Shape              Param #   \n",
      "=================================================================\n",
      "conv2d_1 (Conv2D)            (None, 32, 32, 32)        896       \n",
      "_________________________________________________________________\n",
      "dropout_1 (Dropout)          (None, 32, 32, 32)        0         \n",
      "_________________________________________________________________\n",
      "max_pooling2d_1 (MaxPooling2 (None, 16, 16, 32)        0         \n",
      "_________________________________________________________________\n",
      "conv2d_2 (Conv2D)            (None, 16, 16, 64)        18496     \n",
      "_________________________________________________________________\n",
      "dropout_2 (Dropout)          (None, 16, 16, 64)        0         \n",
      "_________________________________________________________________\n",
      "max_pooling2d_2 (MaxPooling2 (None, 8, 8, 64)          0         \n",
      "_________________________________________________________________\n",
      "flatten_1 (Flatten)          (None, 4096)              0         \n",
      "_________________________________________________________________\n",
      "dropout_3 (Dropout)          (None, 4096)              0         \n",
      "_________________________________________________________________\n",
      "dense_1 (Dense)              (None, 1024)              4195328   \n",
      "_________________________________________________________________\n",
      "dropout_4 (Dropout)          (None, 1024)              0         \n",
      "_________________________________________________________________\n",
      "dense_2 (Dense)              (None, 10)                10250     \n",
      "=================================================================\n",
      "Total params: 4,224,970\n",
      "Trainable params: 4,224,970\n",
      "Non-trainable params: 0\n",
      "_________________________________________________________________\n",
      "None\n"
     ]
    }
   ],
   "source": [
    "from keras.models import Sequential\n",
    "from keras.layers import Dense, Dropout, Activation, Flatten\n",
    "from keras.layers import Conv2D, MaxPooling2D, ZeroPadding2D\n",
    "\n",
    "model = Sequential()\n",
    "\n",
    "#卷積層1與池化層1\n",
    "model.add(Conv2D(filters=32, kernel_size=(3,3), input_shape=(32, 32, 3),  activation='relu',  padding='same'))\n",
    "model.add(Dropout(rate=0.25))\n",
    "model.add(MaxPooling2D(pool_size=(2, 2)))\n",
    "\n",
    "#卷積層2與池化層2\n",
    "model.add(Conv2D(filters=64, kernel_size=(3, 3), activation='relu', padding='same'))\n",
    "model.add(Dropout(0.25))\n",
    "model.add(MaxPooling2D(pool_size=(2, 2)))\n",
    "\n",
    "#建立神經網路(平坦層、隱藏層、輸出層)\n",
    "model.add(Flatten())\n",
    "\n",
    "model.add(Dropout(rate=0.25))\n",
    "model.add(Dense(1024, activation='relu'))\n",
    "\n",
    "model.add(Dropout(rate=0.25))\n",
    "model.add(Dense(10, activation='softmax'))\n",
    "\n",
    "#檢查model 的STACK\n",
    "print(model.summary())"
   ]
  },
  {
   "cell_type": "markdown",
   "metadata": {
    "colab_type": "text",
    "id": "QJCtpJM0iUtJ"
   },
   "source": [
    "# 載入之前訓練的模型"
   ]
  },
  {
   "cell_type": "code",
   "execution_count": 7,
   "metadata": {
    "colab": {},
    "colab_type": "code",
    "id": "JU3A6NzQiUtK"
   },
   "outputs": [
    {
     "name": "stdout",
     "output_type": "stream",
     "text": [
      "載入模型失敗!開始訓練一個新模型\n"
     ]
    }
   ],
   "source": [
    "try:\n",
    "    model.load_weights(\"SaveModel/cifarCnnModel.h5\")\n",
    "    print(\"載入模型成功!繼續訓練模型\")\n",
    "except :    \n",
    "    print(\"載入模型失敗!開始訓練一個新模型\")"
   ]
  },
  {
   "cell_type": "markdown",
   "metadata": {
    "colab_type": "text",
    "id": "qBbCuziziUtM"
   },
   "source": [
    "# 訓練模型"
   ]
  },
  {
   "cell_type": "code",
   "execution_count": 8,
   "metadata": {},
   "outputs": [],
   "source": [
    "import matplotlib.pyplot as plt\n",
    "%matplotlib inline\n",
    "\n",
    "#定義一個繪圖函數\n",
    "def show_train_history(history, train_acc,test_acc):\n",
    "    plt.plot(history.history[train_acc])\n",
    "    plt.plot(history.history[test_acc])\n",
    "    plt.title('Train History')\n",
    "    plt.ylabel('Accuracy')\n",
    "    plt.xlabel('Epoch')\n",
    "    plt.legend(['train_acc', 'val_accuracy'], loc='upper left')\n",
    "    plt.show()"
   ]
  },
  {
   "cell_type": "code",
   "execution_count": 16,
   "metadata": {
    "colab": {},
    "colab_type": "code",
    "id": "Q6BiBcseiUtP"
   },
   "outputs": [
    {
     "name": "stdout",
     "output_type": "stream",
     "text": [
      "Train on 37500 samples, validate on 12500 samples\n",
      "Epoch 1/12\n",
      "37500/37500 [==============================] - 112s 3ms/step - loss: 1.3086 - accuracy: 0.5343 - val_loss: 1.3683 - val_accuracy: 0.5431\n",
      "Epoch 2/12\n",
      "37500/37500 [==============================] - 111s 3ms/step - loss: 1.2824 - accuracy: 0.5445 - val_loss: 1.3323 - val_accuracy: 0.5662\n",
      "Epoch 3/12\n",
      "37500/37500 [==============================] - 120s 3ms/step - loss: 1.2649 - accuracy: 0.5500 - val_loss: 1.3412 - val_accuracy: 0.5658\n",
      "Epoch 4/12\n",
      "37500/37500 [==============================] - 113s 3ms/step - loss: 1.2459 - accuracy: 0.5583 - val_loss: 1.3035 - val_accuracy: 0.5790\n",
      "Epoch 5/12\n",
      "37500/37500 [==============================] - 107s 3ms/step - loss: 1.2293 - accuracy: 0.5621 - val_loss: 1.2850 - val_accuracy: 0.5833\n",
      "Epoch 6/12\n",
      "37500/37500 [==============================] - 109s 3ms/step - loss: 1.2137 - accuracy: 0.5686 - val_loss: 1.2777 - val_accuracy: 0.5813\n",
      "Epoch 7/12\n",
      "37500/37500 [==============================] - 111s 3ms/step - loss: 1.1989 - accuracy: 0.5718 - val_loss: 1.2597 - val_accuracy: 0.5887\n",
      "Epoch 8/12\n",
      "37500/37500 [==============================] - 112s 3ms/step - loss: 1.1865 - accuracy: 0.5767 - val_loss: 1.2623 - val_accuracy: 0.5900\n",
      "Epoch 9/12\n",
      "37500/37500 [==============================] - 110s 3ms/step - loss: 1.1681 - accuracy: 0.5838 - val_loss: 1.2581 - val_accuracy: 0.5937\n",
      "Epoch 10/12\n",
      "37500/37500 [==============================] - 104s 3ms/step - loss: 1.1577 - accuracy: 0.5893 - val_loss: 1.2337 - val_accuracy: 0.5972\n",
      "Epoch 11/12\n",
      "37500/37500 [==============================] - 104s 3ms/step - loss: 1.1399 - accuracy: 0.5970 - val_loss: 1.2729 - val_accuracy: 0.5761\n",
      "Epoch 12/12\n",
      "37500/37500 [==============================] - 113s 3ms/step - loss: 1.1278 - accuracy: 0.5998 - val_loss: 1.2008 - val_accuracy: 0.6069\n"
     ]
    },
    {
     "data": {
      "image/png": "[encoded data removed]",
      "text/plain": [
       "<Figure size 432x288 with 1 Axes>"
      ]
     },
     "metadata": {
      "needs_background": "light"
     },
     "output_type": "display_data"
    }
   ],
   "source": [
    "#模型編譯 loss='categorical_crossentropy'\n",
    "model.compile(loss='categorical_crossentropy', optimizer='sgd', metrics=['accuracy'])\n",
    "train_history1=model.fit(x_img_train_normalize,  y_label_train_OneHot,\n",
    "                         validation_split=0.25,\n",
    "                         epochs=12,  batch_size=128, verbose=1)    \n",
    "show_train_history(train_history1, 'accuracy','val_accuracy')"
   ]
  },
  {
   "cell_type": "code",
   "execution_count": 17,
   "metadata": {},
   "outputs": [
    {
     "name": "stdout",
     "output_type": "stream",
     "text": [
      "Train on 37500 samples, validate on 12500 samples\n",
      "Epoch 1/12\n",
      "37500/37500 [==============================] - 147s 4ms/step - loss: 0.1752 - accuracy: 0.9306 - val_loss: 0.1884 - val_accuracy: 0.9256\n",
      "Epoch 2/12\n",
      "37500/37500 [==============================] - 113s 3ms/step - loss: 0.1750 - accuracy: 0.9305 - val_loss: 0.1875 - val_accuracy: 0.9260\n",
      "Epoch 3/12\n",
      "37500/37500 [==============================] - 116s 3ms/step - loss: 0.1744 - accuracy: 0.9307 - val_loss: 0.1867 - val_accuracy: 0.9268\n",
      "Epoch 4/12\n",
      "37500/37500 [==============================] - 111s 3ms/step - loss: 0.1737 - accuracy: 0.9311 - val_loss: 0.1863 - val_accuracy: 0.9268\n",
      "Epoch 5/12\n",
      "37500/37500 [==============================] - 127s 3ms/step - loss: 0.1739 - accuracy: 0.9312 - val_loss: 0.1874 - val_accuracy: 0.9265\n",
      "Epoch 6/12\n",
      "37500/37500 [==============================] - 107s 3ms/step - loss: 0.1736 - accuracy: 0.9314 - val_loss: 0.1864 - val_accuracy: 0.9267\n",
      "Epoch 7/12\n",
      "37500/37500 [==============================] - 112s 3ms/step - loss: 0.1733 - accuracy: 0.9315 - val_loss: 0.1863 - val_accuracy: 0.9269\n",
      "Epoch 8/12\n",
      "37500/37500 [==============================] - 109s 3ms/step - loss: 0.1732 - accuracy: 0.9315 - val_loss: 0.1857 - val_accuracy: 0.9268\n",
      "Epoch 9/12\n",
      "37500/37500 [==============================] - 127s 3ms/step - loss: 0.1730 - accuracy: 0.9316 - val_loss: 0.1859 - val_accuracy: 0.9268\n",
      "Epoch 10/12\n",
      "37500/37500 [==============================] - 122s 3ms/step - loss: 0.1723 - accuracy: 0.9317 - val_loss: 0.1857 - val_accuracy: 0.9269\n",
      "Epoch 11/12\n",
      "37500/37500 [==============================] - 124s 3ms/step - loss: 0.1719 - accuracy: 0.9320 - val_loss: 0.1845 - val_accuracy: 0.9274\n",
      "Epoch 12/12\n",
      "37500/37500 [==============================] - 131s 3ms/step - loss: 0.1719 - accuracy: 0.9319 - val_loss: 0.1846 - val_accuracy: 0.9276\n"
     ]
    },
    {
     "data": {
      "image/png": "[encoded data removed]",
      "text/plain": [
       "<Figure size 432x288 with 1 Axes>"
      ]
     },
     "metadata": {
      "needs_background": "light"
     },
     "output_type": "display_data"
    }
   ],
   "source": [
    "#模型編譯 loss='binary_crossentropy'\n",
    "model.compile(loss='binary_crossentropy', optimizer='sgd', metrics=['accuracy'])\n",
    "train_history2=model.fit(x_img_train_normalize,  y_label_train_OneHot,\n",
    "                         validation_split=0.25,\n",
    "                         epochs=12,  batch_size=128, verbose=1) \n",
    "show_train_history(train_history2, 'accuracy','val_accuracy')"
   ]
  },
  {
   "cell_type": "code",
   "execution_count": 18,
   "metadata": {},
   "outputs": [
    {
     "name": "stdout",
     "output_type": "stream",
     "text": [
      "Train on 37500 samples, validate on 12500 samples\n",
      "Epoch 1/12\n",
      "37500/37500 [==============================] - 116s 3ms/step - loss: 0.0504 - accuracy: 0.6204 - val_loss: 0.0535 - val_accuracy: 0.6250\n",
      "Epoch 2/12\n",
      "37500/37500 [==============================] - 114s 3ms/step - loss: 0.0503 - accuracy: 0.6210 - val_loss: 0.0535 - val_accuracy: 0.6261\n",
      "Epoch 3/12\n",
      "37500/37500 [==============================] - 118s 3ms/step - loss: 0.0504 - accuracy: 0.6232 - val_loss: 0.0537 - val_accuracy: 0.6242\n",
      "Epoch 4/12\n",
      "37500/37500 [==============================] - 109s 3ms/step - loss: 0.0503 - accuracy: 0.6219 - val_loss: 0.0535 - val_accuracy: 0.6244\n",
      "Epoch 5/12\n",
      "37500/37500 [==============================] - 118s 3ms/step - loss: 0.0503 - accuracy: 0.6219 - val_loss: 0.0536 - val_accuracy: 0.6232\n",
      "Epoch 6/12\n",
      "37500/37500 [==============================] - 116s 3ms/step - loss: 0.0502 - accuracy: 0.6242 - val_loss: 0.0535 - val_accuracy: 0.6242\n",
      "Epoch 7/12\n",
      "37500/37500 [==============================] - 106s 3ms/step - loss: 0.0500 - accuracy: 0.6247 - val_loss: 0.0535 - val_accuracy: 0.6250\n",
      "Epoch 8/12\n",
      "37500/37500 [==============================] - 106s 3ms/step - loss: 0.0503 - accuracy: 0.6234 - val_loss: 0.0536 - val_accuracy: 0.6242\n",
      "Epoch 9/12\n",
      "37500/37500 [==============================] - 105s 3ms/step - loss: 0.0504 - accuracy: 0.6233 - val_loss: 0.0535 - val_accuracy: 0.6250\n",
      "Epoch 10/12\n",
      "37500/37500 [==============================] - 104s 3ms/step - loss: 0.0502 - accuracy: 0.6251 - val_loss: 0.0535 - val_accuracy: 0.6249\n",
      "Epoch 11/12\n",
      "37500/37500 [==============================] - 106s 3ms/step - loss: 0.0503 - accuracy: 0.6216 - val_loss: 0.0534 - val_accuracy: 0.6246\n",
      "Epoch 12/12\n",
      "37500/37500 [==============================] - 105s 3ms/step - loss: 0.0501 - accuracy: 0.6264 - val_loss: 0.0534 - val_accuracy: 0.6265\n"
     ]
    },
    {
     "data": {
      "image/png": "[encoded data removed]",
      "text/plain": [
       "<Figure size 432x288 with 1 Axes>"
      ]
     },
     "metadata": {
      "needs_background": "light"
     },
     "output_type": "display_data"
    }
   ],
   "source": [
    "#模型編譯 loss='mean_squared_error'\n",
    "model.compile(loss='mean_squared_error', optimizer='sgd', metrics=['accuracy'])\n",
    "train_history3=model.fit(x_img_train_normalize,  y_label_train_OneHot,\n",
    "                         validation_split=0.25,\n",
    "                         epochs=12,  batch_size=128, verbose=1)    \n",
    "show_train_history(train_history3, 'accuracy','val_accuracy')"
   ]
  },
  {
   "cell_type": "code",
   "execution_count": null,
   "metadata": {},
   "outputs": [],
   "source": []
  }
 ],
 "metadata": {
  "colab": {
   "name": "Day71-使用損失函數_HW.ipynb",
   "provenance": [],
   "version": "0.3.2"
  },
  "kernelspec": {
   "display_name": "Python 3",
   "language": "python",
   "name": "python3"
  },
  "language_info": {
   "codemirror_mode": {
    "name": "ipython",
    "version": 3
   },
   "file_extension": ".py",
   "mimetype": "text/x-python",
   "name": "python",
   "nbconvert_exporter": "python",
   "pygments_lexer": "ipython3",
   "version": "3.7.3"
  }
 },
 "nbformat": 4,
 "nbformat_minor": 1
}
