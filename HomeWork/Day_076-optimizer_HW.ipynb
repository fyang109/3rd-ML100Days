{
 "cells": [
  {
   "cell_type": "markdown",
   "metadata": {
    "colab_type": "text",
    "id": "2pM4ThB3ZWSj"
   },
   "source": [
    "# 作業重點:\n",
    "\n",
    "(1)以, Adam, 為例, 調整 batch_size, epoch , 觀察accurancy, loss 的變化\n",
    "\n",
    "(2)以同一模型, 分別驗證 SGD, Adam, Rmsprop 的 accurancy"
   ]
  },
  {
   "cell_type": "markdown",
   "metadata": {
    "colab_type": "text",
    "id": "t0V9RbaaZWSp"
   },
   "source": [
    "# 作業目標:\n",
    "    \n",
    "    取得各種優化器的運算結果"
   ]
  },
  {
   "cell_type": "code",
   "execution_count": 1,
   "metadata": {
    "colab": {
     "base_uri": "https://localhost:8080/",
     "height": 85
    },
    "colab_type": "code",
    "executionInfo": {
     "elapsed": 2568,
     "status": "ok",
     "timestamp": 1578377964842,
     "user": {
      "displayName": "楊豐豪",
      "photoUrl": "",
      "userId": "02756875908311025376"
     },
     "user_tz": -480
    },
    "id": "R4otA4GEZWSs",
    "outputId": "91d62a43-25e3-44fc-cc0f-0f02095a37fd"
   },
   "outputs": [
    {
     "name": "stderr",
     "output_type": "stream",
     "text": [
      "Using TensorFlow backend.\n"
     ]
    },
    {
     "data": {
      "text/html": [
       "<p style=\"color: red;\">\n",
       "The default version of TensorFlow in Colab will soon switch to TensorFlow 2.x.<br>\n",
       "We recommend you <a href=\"https://www.tensorflow.org/guide/migrate\" target=\"_blank\">upgrade</a> now \n",
       "or ensure your notebook will continue to use TensorFlow 1.x via the <code>%tensorflow_version 1.x</code> magic:\n",
       "<a href=\"https://colab.research.google.com/notebooks/tensorflow_version.ipynb\" target=\"_blank\">more info</a>.</p>\n"
      ],
      "text/plain": [
       "<IPython.core.display.HTML object>"
      ]
     },
     "metadata": {
      "tags": []
     },
     "output_type": "display_data"
    }
   ],
   "source": [
    "from __future__ import print_function\n",
    "import keras\n",
    "from keras.datasets import cifar10\n",
    "from keras.preprocessing.image import ImageDataGenerator\n",
    "from keras.models import Sequential\n",
    "from keras.layers import Dense, Dropout, Activation, Flatten\n",
    "from keras.layers import Conv2D, MaxPooling2D\n",
    "import os\n",
    "from keras import optimizers\n"
   ]
  },
  {
   "cell_type": "code",
   "execution_count": 0,
   "metadata": {
    "colab": {},
    "colab_type": "code",
    "id": "0pGhM6c-ZWT2"
   },
   "outputs": [],
   "source": [
    "#Blas GEMM launch failed , 避免動態分配GPU / CPU, 出現問題\n",
    "import tensorflow as tf\n",
    "gpu_options = tf.GPUOptions(per_process_gpu_memory_fraction=0.333)\n",
    "sess = tf.Session(config=tf.ConfigProto(gpu_options=gpu_options))\n"
   ]
  },
  {
   "cell_type": "code",
   "execution_count": 0,
   "metadata": {
    "colab": {},
    "colab_type": "code",
    "id": "uLAO3BT1ZWUG"
   },
   "outputs": [],
   "source": [
    "\n",
    "'''\n",
    "   宣告並設定\n",
    "   batch_size：對總的樣本數進行分組，每組包含的樣本數量\n",
    "   epochs ：訓練次數\n",
    "   \n",
    "''' \n",
    "batch_size = 32\n",
    "num_classes = 10\n",
    "epochs = 20\n",
    "data_augmentation = True\n",
    "num_predictions = 20\n",
    "save_dir = os.path.join(os.getcwd(), 'saved_models')\n",
    "model_name = 'keras_cifar10_trained_model.h5'"
   ]
  },
  {
   "cell_type": "code",
   "execution_count": 4,
   "metadata": {
    "colab": {
     "base_uri": "https://localhost:8080/",
     "height": 73
    },
    "colab_type": "code",
    "executionInfo": {
     "elapsed": 2707,
     "status": "ok",
     "timestamp": 1578377965093,
     "user": {
      "displayName": "楊豐豪",
      "photoUrl": "",
      "userId": "02756875908311025376"
     },
     "user_tz": -480
    },
    "id": "qSV605IZZWUe",
    "outputId": "03c2dae2-53f1-4972-ecf9-7aadcf961293"
   },
   "outputs": [
    {
     "name": "stdout",
     "output_type": "stream",
     "text": [
      "x_train shape: (50000, 32, 32, 3)\n",
      "50000 train samples\n",
      "10000 test samples\n"
     ]
    }
   ],
   "source": [
    "# The data, split between train and test sets:\n",
    "(x_train, y_train), (x_test, y_test) = cifar10.load_data()\n",
    "print('x_train shape:', x_train.shape)\n",
    "print(x_train.shape[0], 'train samples')\n",
    "print(x_test.shape[0], 'test samples')\n",
    "\n",
    "# Convert class vectors to binary class matrices.\n",
    "y_train = keras.utils.to_categorical(y_train, num_classes)\n",
    "y_test = keras.utils.to_categorical(y_test, num_classes)"
   ]
  },
  {
   "cell_type": "code",
   "execution_count": 5,
   "metadata": {
    "colab": {
     "base_uri": "https://localhost:8080/",
     "height": 280
    },
    "colab_type": "code",
    "executionInfo": {
     "elapsed": 2681,
     "status": "ok",
     "timestamp": 1578377965096,
     "user": {
      "displayName": "楊豐豪",
      "photoUrl": "",
      "userId": "02756875908311025376"
     },
     "user_tz": -480
    },
    "id": "pB2zrhqUZWUk",
    "outputId": "c2befdb9-6f00-4c28-c6d2-3c06011b3207"
   },
   "outputs": [
    {
     "name": "stdout",
     "output_type": "stream",
     "text": [
      "WARNING:tensorflow:From /usr/local/lib/python3.6/dist-packages/keras/backend/tensorflow_backend.py:66: The name tf.get_default_graph is deprecated. Please use tf.compat.v1.get_default_graph instead.\n",
      "\n",
      "WARNING:tensorflow:From /usr/local/lib/python3.6/dist-packages/keras/backend/tensorflow_backend.py:541: The name tf.placeholder is deprecated. Please use tf.compat.v1.placeholder instead.\n",
      "\n",
      "WARNING:tensorflow:From /usr/local/lib/python3.6/dist-packages/keras/backend/tensorflow_backend.py:4432: The name tf.random_uniform is deprecated. Please use tf.random.uniform instead.\n",
      "\n",
      "WARNING:tensorflow:From /usr/local/lib/python3.6/dist-packages/keras/backend/tensorflow_backend.py:4267: The name tf.nn.max_pool is deprecated. Please use tf.nn.max_pool2d instead.\n",
      "\n",
      "WARNING:tensorflow:From /usr/local/lib/python3.6/dist-packages/keras/backend/tensorflow_backend.py:148: The name tf.placeholder_with_default is deprecated. Please use tf.compat.v1.placeholder_with_default instead.\n",
      "\n",
      "WARNING:tensorflow:From /usr/local/lib/python3.6/dist-packages/keras/backend/tensorflow_backend.py:3733: calling dropout (from tensorflow.python.ops.nn_ops) with keep_prob is deprecated and will be removed in a future version.\n",
      "Instructions for updating:\n",
      "Please use `rate` instead of `keep_prob`. Rate should be set to `rate = 1 - keep_prob`.\n"
     ]
    }
   ],
   "source": [
    "#第一步：選擇模型, 順序模型是多個網絡層的線性堆疊\n",
    " \n",
    "model = Sequential()\n",
    "\n",
    "#   第二步：構建網絡層\n",
    "model.add(Conv2D(32, (3, 3), padding='same',\n",
    "                 input_shape=x_train.shape[1:]))\n",
    "model.add(Activation('relu'))\n",
    "model.add(Conv2D(32, (3, 3)))\n",
    "model.add(Activation('relu'))\n",
    "model.add(MaxPooling2D(pool_size=(2, 2)))\n",
    "model.add(Dropout(0.25))\n",
    "\n",
    "model.add(Conv2D(64, (3, 3), padding='same'))\n",
    "model.add(Activation('relu'))\n",
    "model.add(Conv2D(64, (3, 3)))\n",
    "model.add(Activation('relu'))\n",
    "model.add(MaxPooling2D(pool_size=(2, 2)))\n",
    "model.add(Dropout(0.25))\n",
    "\n",
    "model.add(Flatten())\n",
    "model.add(Dense(512))\n",
    "model.add(Activation('relu'))\n",
    "model.add(Dropout(0.5))\n",
    "\n",
    "model.add(Dense( 10)) # 輸出結果是10個類別，所以維度是10   \n",
    "model.add(Activation('softmax')) # 最後一層用softmax作為激活函數"
   ]
  },
  {
   "cell_type": "code",
   "execution_count": 6,
   "metadata": {
    "colab": {
     "base_uri": "https://localhost:8080/",
     "height": 36
    },
    "colab_type": "code",
    "executionInfo": {
     "elapsed": 2951,
     "status": "ok",
     "timestamp": 1578377965380,
     "user": {
      "displayName": "楊豐豪",
      "photoUrl": "",
      "userId": "02756875908311025376"
     },
     "user_tz": -480
    },
    "id": "KIl0mDCMZWUs",
    "outputId": "cf3e56e2-a9c3-4ed8-9188-0271a91ad185"
   },
   "outputs": [
    {
     "name": "stdout",
     "output_type": "stream",
     "text": [
      "Total Parameters：1250858\n"
     ]
    }
   ],
   "source": [
    "# 模型建立完成後，統計參數總量\n",
    "print(\"Total Parameters：%d\" % model.count_params())"
   ]
  },
  {
   "cell_type": "code",
   "execution_count": 7,
   "metadata": {
    "colab": {
     "base_uri": "https://localhost:8080/",
     "height": 838
    },
    "colab_type": "code",
    "executionInfo": {
     "elapsed": 2945,
     "status": "ok",
     "timestamp": 1578377965397,
     "user": {
      "displayName": "楊豐豪",
      "photoUrl": "",
      "userId": "02756875908311025376"
     },
     "user_tz": -480
    },
    "id": "skwUWCVLZWVN",
    "outputId": "769fd577-4d24-4e43-b5b9-2823aaab3f78"
   },
   "outputs": [
    {
     "name": "stdout",
     "output_type": "stream",
     "text": [
      "Model: \"sequential_1\"\n",
      "_________________________________________________________________\n",
      "Layer (type)                 Output Shape              Param #   \n",
      "=================================================================\n",
      "conv2d_1 (Conv2D)            (None, 32, 32, 32)        896       \n",
      "_________________________________________________________________\n",
      "activation_1 (Activation)    (None, 32, 32, 32)        0         \n",
      "_________________________________________________________________\n",
      "conv2d_2 (Conv2D)            (None, 30, 30, 32)        9248      \n",
      "_________________________________________________________________\n",
      "activation_2 (Activation)    (None, 30, 30, 32)        0         \n",
      "_________________________________________________________________\n",
      "max_pooling2d_1 (MaxPooling2 (None, 15, 15, 32)        0         \n",
      "_________________________________________________________________\n",
      "dropout_1 (Dropout)          (None, 15, 15, 32)        0         \n",
      "_________________________________________________________________\n",
      "conv2d_3 (Conv2D)            (None, 15, 15, 64)        18496     \n",
      "_________________________________________________________________\n",
      "activation_3 (Activation)    (None, 15, 15, 64)        0         \n",
      "_________________________________________________________________\n",
      "conv2d_4 (Conv2D)            (None, 13, 13, 64)        36928     \n",
      "_________________________________________________________________\n",
      "activation_4 (Activation)    (None, 13, 13, 64)        0         \n",
      "_________________________________________________________________\n",
      "max_pooling2d_2 (MaxPooling2 (None, 6, 6, 64)          0         \n",
      "_________________________________________________________________\n",
      "dropout_2 (Dropout)          (None, 6, 6, 64)          0         \n",
      "_________________________________________________________________\n",
      "flatten_1 (Flatten)          (None, 2304)              0         \n",
      "_________________________________________________________________\n",
      "dense_1 (Dense)              (None, 512)               1180160   \n",
      "_________________________________________________________________\n",
      "activation_5 (Activation)    (None, 512)               0         \n",
      "_________________________________________________________________\n",
      "dropout_3 (Dropout)          (None, 512)               0         \n",
      "_________________________________________________________________\n",
      "dense_2 (Dense)              (None, 10)                5130      \n",
      "_________________________________________________________________\n",
      "activation_6 (Activation)    (None, 10)                0         \n",
      "=================================================================\n",
      "Total params: 1,250,858\n",
      "Trainable params: 1,250,858\n",
      "Non-trainable params: 0\n",
      "_________________________________________________________________\n"
     ]
    }
   ],
   "source": [
    "# 輸出模型摘要資訊\n",
    "model.summary()"
   ]
  },
  {
   "cell_type": "code",
   "execution_count": 0,
   "metadata": {
    "colab": {},
    "colab_type": "code",
    "id": "-q_ivlfOoQRh"
   },
   "outputs": [],
   "source": [
    "# 資料正規化\n",
    "x_train = x_train.astype('float32')\n",
    "x_test = x_test.astype('float32')\n",
    "x_train /= 255\n",
    "x_test /= 255"
   ]
  },
  {
   "cell_type": "code",
   "execution_count": 9,
   "metadata": {
    "colab": {
     "base_uri": "https://localhost:8080/",
     "height": 112
    },
    "colab_type": "code",
    "executionInfo": {
     "elapsed": 3183,
     "status": "ok",
     "timestamp": 1578377965697,
     "user": {
      "displayName": "楊豐豪",
      "photoUrl": "",
      "userId": "02756875908311025376"
     },
     "user_tz": -480
    },
    "id": "aIS_1tIGZWVW",
    "outputId": "8865076e-5110-4220-d19a-7ebfd93a5fb7"
   },
   "outputs": [
    {
     "name": "stdout",
     "output_type": "stream",
     "text": [
      "WARNING:tensorflow:From /usr/local/lib/python3.6/dist-packages/keras/optimizers.py:793: The name tf.train.Optimizer is deprecated. Please use tf.compat.v1.train.Optimizer instead.\n",
      "\n",
      "WARNING:tensorflow:From /usr/local/lib/python3.6/dist-packages/keras/backend/tensorflow_backend.py:3576: The name tf.log is deprecated. Please use tf.math.log instead.\n",
      "\n"
     ]
    }
   ],
   "source": [
    "#第三步編譯\n",
    "model.compile(optimizer = 'adam', loss = 'categorical_crossentropy', metrics = ['accuracy'])"
   ]
  },
  {
   "cell_type": "code",
   "execution_count": 10,
   "metadata": {
    "colab": {
     "base_uri": "https://localhost:8080/",
     "height": 1000
    },
    "colab_type": "code",
    "executionInfo": {
     "elapsed": 214574,
     "status": "ok",
     "timestamp": 1578378177116,
     "user": {
      "displayName": "楊豐豪",
      "photoUrl": "",
      "userId": "02756875908311025376"
     },
     "user_tz": -480
    },
    "id": "bSw5emX-coiL",
    "outputId": "392d4183-1779-4a58-a105-e28827096021"
   },
   "outputs": [
    {
     "name": "stdout",
     "output_type": "stream",
     "text": [
      "Using real-time data augmentation.\n",
      "\n",
      "WARNING:tensorflow:From /usr/local/lib/python3.6/dist-packages/tensorflow_core/python/ops/math_grad.py:1424: where (from tensorflow.python.ops.array_ops) is deprecated and will be removed in a future version.\n",
      "Instructions for updating:\n",
      "Use tf.where in 2.0, which has the same broadcast rule as np.where\n",
      "WARNING:tensorflow:From /usr/local/lib/python3.6/dist-packages/keras/backend/tensorflow_backend.py:1033: The name tf.assign_add is deprecated. Please use tf.compat.v1.assign_add instead.\n",
      "\n",
      "WARNING:tensorflow:From /usr/local/lib/python3.6/dist-packages/keras/backend/tensorflow_backend.py:1020: The name tf.assign is deprecated. Please use tf.compat.v1.assign instead.\n",
      "\n",
      "Train on 50000 samples, validate on 10000 samples\n",
      "Epoch 1/20\n",
      "WARNING:tensorflow:From /usr/local/lib/python3.6/dist-packages/keras/backend/tensorflow_backend.py:190: The name tf.get_default_session is deprecated. Please use tf.compat.v1.get_default_session instead.\n",
      "\n",
      "WARNING:tensorflow:From /usr/local/lib/python3.6/dist-packages/keras/backend/tensorflow_backend.py:207: The name tf.global_variables is deprecated. Please use tf.compat.v1.global_variables instead.\n",
      "\n",
      "WARNING:tensorflow:From /usr/local/lib/python3.6/dist-packages/keras/backend/tensorflow_backend.py:216: The name tf.is_variable_initialized is deprecated. Please use tf.compat.v1.is_variable_initialized instead.\n",
      "\n",
      "WARNING:tensorflow:From /usr/local/lib/python3.6/dist-packages/keras/backend/tensorflow_backend.py:223: The name tf.variables_initializer is deprecated. Please use tf.compat.v1.variables_initializer instead.\n",
      "\n",
      "50000/50000 [==============================] - 13s 254us/step - loss: 1.4959 - acc: 0.4519 - val_loss: 1.1194 - val_acc: 0.6003\n",
      "Epoch 2/20\n",
      "50000/50000 [==============================] - 10s 209us/step - loss: 1.1180 - acc: 0.6016 - val_loss: 0.9396 - val_acc: 0.6689\n",
      "Epoch 3/20\n",
      "50000/50000 [==============================] - 11s 211us/step - loss: 0.9603 - acc: 0.6628 - val_loss: 0.8674 - val_acc: 0.6991\n",
      "Epoch 4/20\n",
      "50000/50000 [==============================] - 10s 209us/step - loss: 0.8694 - acc: 0.6969 - val_loss: 0.7996 - val_acc: 0.7187\n",
      "Epoch 5/20\n",
      "50000/50000 [==============================] - 10s 209us/step - loss: 0.7929 - acc: 0.7231 - val_loss: 0.7981 - val_acc: 0.7295\n",
      "Epoch 6/20\n",
      "50000/50000 [==============================] - 10s 207us/step - loss: 0.7496 - acc: 0.7370 - val_loss: 0.7188 - val_acc: 0.7504\n",
      "Epoch 7/20\n",
      "50000/50000 [==============================] - 10s 205us/step - loss: 0.7130 - acc: 0.7513 - val_loss: 0.7062 - val_acc: 0.7554\n",
      "Epoch 8/20\n",
      "50000/50000 [==============================] - 10s 206us/step - loss: 0.6776 - acc: 0.7616 - val_loss: 0.6750 - val_acc: 0.7666\n",
      "Epoch 9/20\n",
      "50000/50000 [==============================] - 10s 210us/step - loss: 0.6490 - acc: 0.7711 - val_loss: 0.6864 - val_acc: 0.7639\n",
      "Epoch 10/20\n",
      "50000/50000 [==============================] - 10s 208us/step - loss: 0.6245 - acc: 0.7799 - val_loss: 0.6538 - val_acc: 0.7744\n",
      "Epoch 11/20\n",
      "50000/50000 [==============================] - 10s 208us/step - loss: 0.6057 - acc: 0.7886 - val_loss: 0.6783 - val_acc: 0.7731\n",
      "Epoch 12/20\n",
      "50000/50000 [==============================] - 10s 209us/step - loss: 0.5851 - acc: 0.7934 - val_loss: 0.6651 - val_acc: 0.7801\n",
      "Epoch 13/20\n",
      "50000/50000 [==============================] - 10s 209us/step - loss: 0.5713 - acc: 0.8005 - val_loss: 0.6766 - val_acc: 0.7707\n",
      "Epoch 14/20\n",
      "50000/50000 [==============================] - 10s 207us/step - loss: 0.5508 - acc: 0.8055 - val_loss: 0.6389 - val_acc: 0.7849\n",
      "Epoch 15/20\n",
      "50000/50000 [==============================] - 10s 209us/step - loss: 0.5308 - acc: 0.8125 - val_loss: 0.6297 - val_acc: 0.7834\n",
      "Epoch 16/20\n",
      "50000/50000 [==============================] - 10s 209us/step - loss: 0.5331 - acc: 0.8133 - val_loss: 0.6347 - val_acc: 0.7881\n",
      "Epoch 17/20\n",
      "50000/50000 [==============================] - 10s 209us/step - loss: 0.5145 - acc: 0.8179 - val_loss: 0.6576 - val_acc: 0.7849\n",
      "Epoch 18/20\n",
      "50000/50000 [==============================] - 10s 207us/step - loss: 0.5102 - acc: 0.8216 - val_loss: 0.6504 - val_acc: 0.7817\n",
      "Epoch 19/20\n",
      "50000/50000 [==============================] - 10s 204us/step - loss: 0.4953 - acc: 0.8255 - val_loss: 0.6382 - val_acc: 0.7890\n",
      "Epoch 20/20\n",
      "50000/50000 [==============================] - 11s 211us/step - loss: 0.4847 - acc: 0.8281 - val_loss: 0.6596 - val_acc: 0.7804\n"
     ]
    },
    {
     "data": {
      "text/plain": [
       "'\\n   第四步：訓練\\n   .fit的一些參數\\n   batch_size：對總的樣本數進行分組，每組包含的樣本數量\\n   epochs ：訓練次數\\n   shuffle：是否把數據隨機打亂之後再進行訓練\\n   validation_split：拿出百分之多少用來做交叉驗證\\n   verbose：屏顯模式 - 0：不輸出, 1：輸出進度, 2：輸出每次的訓練結果\\n'"
      ]
     },
     "execution_count": 10,
     "metadata": {
      "tags": []
     },
     "output_type": "execute_result"
    }
   ],
   "source": [
    "# 第四步訓練，是否要做資料處理\n",
    "if not data_augmentation:\n",
    "    print('Not using data augmentation.')\n",
    "    history=model.fit(x_train, y_train,\n",
    "              batch_size=batch_size,\n",
    "              epochs=epochs,\n",
    "              validation_data=(x_test, y_test),\n",
    "              shuffle=True)\n",
    "else:\n",
    "    print('Using real-time data augmentation.')\n",
    "    print('')\n",
    "        \n",
    "    # This will do preprocessing and realtime data augmentation:\n",
    "    datagen = ImageDataGenerator(\n",
    "        featurewise_center=False,  # set input mean to 0 over the dataset\n",
    "        samplewise_center=False,  # set each sample mean to 0\n",
    "        featurewise_std_normalization=False,  # divide inputs by std of the dataset\n",
    "        samplewise_std_normalization=False,  # divide each input by its std\n",
    "        zca_whitening=False,  # apply ZCA whitening\n",
    "        zca_epsilon=1e-06,  # epsilon for ZCA whitening\n",
    "        rotation_range=0,  # randomly rotate images in the range (degrees, 0 to 180)\n",
    "        # randomly shift images horizontally (fraction of total width)\n",
    "        width_shift_range=0.1,\n",
    "        # randomly shift images vertically (fraction of total height)\n",
    "        height_shift_range=0.1,\n",
    "        shear_range=0.,  # set range for random shear\n",
    "        zoom_range=0.,  # set range for random zoom\n",
    "        channel_shift_range=0.,  # set range for random channel shifts\n",
    "        # set mode for filling points outside the input boundaries\n",
    "        fill_mode='nearest',\n",
    "        cval=0.,  # value used for fill_mode = \"constant\"\n",
    "        horizontal_flip=True,  # randomly flip images\n",
    "        vertical_flip=False,  # randomly flip images\n",
    "        # set rescaling factor (applied before any other transformation)\n",
    "        rescale=None,\n",
    "        # set function that will be applied on each input\n",
    "        preprocessing_function=None,\n",
    "        # image data format, either \"channels_first\" or \"channels_last\"\n",
    "        data_format=None,\n",
    "        # fraction of images reserved for validation (strictly between 0 and 1)\n",
    "        validation_split=0.0)\n",
    "\n",
    "    # Compute quantities required for feature-wise normalization\n",
    "    # (std, mean, and principal components if ZCA whitening is applied).\n",
    "    datagen.fit(x_train)\n",
    "    history=model.fit(x_train, y_train,\n",
    "              batch_size=batch_size,\n",
    "              epochs=epochs,\n",
    "              validation_data=(x_test, y_test),\n",
    "              shuffle=True)   \n",
    "\n",
    "'''\n",
    "   第四步：訓練\n",
    "   .fit的一些參數\n",
    "   batch_size：對總的樣本數進行分組，每組包含的樣本數量\n",
    "   epochs ：訓練次數\n",
    "   shuffle：是否把數據隨機打亂之後再進行訓練\n",
    "   validation_split：拿出百分之多少用來做交叉驗證\n",
    "   verbose：屏顯模式 - 0：不輸出, 1：輸出進度, 2：輸出每次的訓練結果\n",
    "''' \n",
    "    "
   ]
  },
  {
   "cell_type": "code",
   "execution_count": 11,
   "metadata": {
    "colab": {
     "base_uri": "https://localhost:8080/",
     "height": 92
    },
    "colab_type": "code",
    "executionInfo": {
     "elapsed": 215225,
     "status": "ok",
     "timestamp": 1578378177843,
     "user": {
      "displayName": "楊豐豪",
      "photoUrl": "",
      "userId": "02756875908311025376"
     },
     "user_tz": -480
    },
    "id": "N0ktKjofZWV0",
    "outputId": "05231f60-38c8-446c-9508-4c1efc2df755"
   },
   "outputs": [
    {
     "name": "stdout",
     "output_type": "stream",
     "text": [
      "Saved trained model at /content/saved_models/keras_cifar10_trained_model.h5 \n",
      "10000/10000 [==============================] - 1s 73us/step\n",
      "Test loss: 0.6596334711074829\n",
      "Test accuracy: 0.7804\n"
     ]
    }
   ],
   "source": [
    "# Save model and weights\n",
    "if not os.path.isdir(save_dir):\n",
    "    os.makedirs(save_dir)\n",
    "model_path = os.path.join(save_dir, model_name)\n",
    "model.save(model_path)\n",
    "print('Saved trained model at %s ' % model_path)\n",
    "\n",
    "# Score trained model.\n",
    "scores = model.evaluate(x_test, y_test, verbose=1)\n",
    "print('Test loss:', scores[0])\n",
    "print('Test accuracy:', scores[1])"
   ]
  },
  {
   "cell_type": "code",
   "execution_count": 12,
   "metadata": {
    "colab": {
     "base_uri": "https://localhost:8080/",
     "height": 73
    },
    "colab_type": "code",
    "executionInfo": {
     "elapsed": 215820,
     "status": "ok",
     "timestamp": 1578378178465,
     "user": {
      "displayName": "楊豐豪",
      "photoUrl": "",
      "userId": "02756875908311025376"
     },
     "user_tz": -480
    },
    "id": "sjgLtRHcc3v7",
    "outputId": "30f67748-e69c-444a-9b3d-253797f26687"
   },
   "outputs": [
    {
     "name": "stdout",
     "output_type": "stream",
     "text": [
      " test set \n",
      "\n",
      " The test loss is %f  [0.6596334969997406, 0.7803999984264374]\n"
     ]
    }
   ],
   "source": [
    "#第六步：輸出\n",
    "import numpy \n",
    "\n",
    "print ( \" test set \" )\n",
    "scores = model.evaluate(x_test,y_test,batch_size=200,verbose= 0)\n",
    "print ( \"\" )\n",
    "#print ( \" The test loss is %f \" % scores)\n",
    "print ( \" The test loss is %f \", scores)\n",
    "\n",
    "\n",
    "result = model.predict(x_test,batch_size=200,verbose= 0)\n",
    "\n",
    "result_max = numpy.argmax(result, axis = 1 )\n",
    "test_max = numpy.argmax(y_test, axis = 1 )\n",
    "\n",
    "result_bool = numpy.equal(result_max, test_max)\n",
    "true_num = numpy.sum(result_bool)\n"
   ]
  },
  {
   "cell_type": "code",
   "execution_count": 13,
   "metadata": {
    "colab": {
     "base_uri": "https://localhost:8080/",
     "height": 573
    },
    "colab_type": "code",
    "executionInfo": {
     "elapsed": 216434,
     "status": "ok",
     "timestamp": 1578378179096,
     "user": {
      "displayName": "楊豐豪",
      "photoUrl": "",
      "userId": "02756875908311025376"
     },
     "user_tz": -480
    },
    "id": "8ZYAac4nc5-1",
    "outputId": "42381b10-328a-4681-80f4-b22b9522320e"
   },
   "outputs": [
    {
     "data": {
      "image/png": "[encoded data removed]",
      "text/plain": [
       "<Figure size 432x288 with 1 Axes>"
      ]
     },
     "metadata": {
      "tags": []
     },
     "output_type": "display_data"
    },
    {
     "data": {
      "image/png": "[encoded data removed]",
      "text/plain": [
       "<Figure size 432x288 with 1 Axes>"
      ]
     },
     "metadata": {
      "tags": []
     },
     "output_type": "display_data"
    }
   ],
   "source": [
    "#第七步：繪製報表\n",
    "import matplotlib.pyplot as plt\n",
    "%matplotlib inline\n",
    "\n",
    "# Plot training & validation accuracy values\n",
    "plt.plot(history.history['acc'])\n",
    "plt.plot(history.history['val_acc'])\n",
    "plt.title('Model accuracy')\n",
    "plt.ylabel('Accuracy')\n",
    "plt.xlabel('Epoch')\n",
    "plt.legend(['Train', 'Valiidation'], loc='upper left')\n",
    "plt.show()\n",
    "\n",
    "# Plot training & validation loss values\n",
    "plt.plot(history.history['loss'])\n",
    "plt.plot(history.history['val_loss'])\n",
    "plt.title('Model loss')\n",
    "plt.ylabel('Loss')\n",
    "plt.xlabel('Epoch')\n",
    "plt.legend(['Train', 'Valiidation'], loc='upper left')\n",
    "plt.show()"
   ]
  },
  {
   "cell_type": "code",
   "execution_count": 0,
   "metadata": {
    "colab": {},
    "colab_type": "code",
    "id": "J7lS5C2TcWN0"
   },
   "outputs": [],
   "source": [
    "#第三步編譯\n",
    "'''\n",
    "SGD(隨機梯度下降) - Arguments\n",
    "lr: float >= 0. Learning rate.\n",
    "momentum: float >= 0. Parameter that accelerates SGD in the relevant direction and dampens oscillations.\n",
    "decay: float >= 0. Learning rate decay over each update.\n",
    "nesterov: boolean. Whether to apply Nesterov momentum.\n",
    "'''\n",
    "opt = optimizers.SGD(lr=0.001, decay=0, momentum=0, nesterov=True)\n",
    "model.compile(optimizer = 'adam', loss = 'categorical_crossentropy', metrics = ['accuracy'])\n",
    "\n",
    "\n"
   ]
  },
  {
   "cell_type": "code",
   "execution_count": 15,
   "metadata": {
    "colab": {
     "base_uri": "https://localhost:8080/",
     "height": 858
    },
    "colab_type": "code",
    "executionInfo": {
     "elapsed": 428298,
     "status": "ok",
     "timestamp": 1578378391035,
     "user": {
      "displayName": "楊豐豪",
      "photoUrl": "",
      "userId": "02756875908311025376"
     },
     "user_tz": -480
    },
    "id": "H6atMrMadYFY",
    "outputId": "ad56d02c-65d9-4003-de06-4a1e5f07d480"
   },
   "outputs": [
    {
     "name": "stdout",
     "output_type": "stream",
     "text": [
      "Using real-time data augmentation.\n",
      "\n",
      "Train on 50000 samples, validate on 10000 samples\n",
      "Epoch 1/20\n",
      "50000/50000 [==============================] - 11s 222us/step - loss: 0.4830 - acc: 0.8306 - val_loss: 0.6176 - val_acc: 0.7957\n",
      "Epoch 2/20\n",
      "50000/50000 [==============================] - 11s 212us/step - loss: 0.4702 - acc: 0.8372 - val_loss: 0.6408 - val_acc: 0.7882\n",
      "Epoch 3/20\n",
      "50000/50000 [==============================] - 11s 213us/step - loss: 0.4639 - acc: 0.8349 - val_loss: 0.6541 - val_acc: 0.7892\n",
      "Epoch 4/20\n",
      "50000/50000 [==============================] - 10s 208us/step - loss: 0.4537 - acc: 0.8421 - val_loss: 0.6447 - val_acc: 0.7919\n",
      "Epoch 5/20\n",
      "50000/50000 [==============================] - 10s 207us/step - loss: 0.4461 - acc: 0.8419 - val_loss: 0.6466 - val_acc: 0.7936\n",
      "Epoch 6/20\n",
      "50000/50000 [==============================] - 10s 209us/step - loss: 0.4492 - acc: 0.8429 - val_loss: 0.6469 - val_acc: 0.7871\n",
      "Epoch 7/20\n",
      "50000/50000 [==============================] - 11s 211us/step - loss: 0.4370 - acc: 0.8469 - val_loss: 0.6596 - val_acc: 0.7883\n",
      "Epoch 8/20\n",
      "50000/50000 [==============================] - 11s 217us/step - loss: 0.4345 - acc: 0.8495 - val_loss: 0.6254 - val_acc: 0.7908\n",
      "Epoch 9/20\n",
      "50000/50000 [==============================] - 11s 213us/step - loss: 0.4286 - acc: 0.8498 - val_loss: 0.6591 - val_acc: 0.7908\n",
      "Epoch 10/20\n",
      "50000/50000 [==============================] - 10s 210us/step - loss: 0.4238 - acc: 0.8514 - val_loss: 0.6391 - val_acc: 0.7906\n",
      "Epoch 11/20\n",
      "50000/50000 [==============================] - 11s 213us/step - loss: 0.4167 - acc: 0.8532 - val_loss: 0.6723 - val_acc: 0.7883\n",
      "Epoch 12/20\n",
      "50000/50000 [==============================] - 11s 211us/step - loss: 0.4162 - acc: 0.8548 - val_loss: 0.6468 - val_acc: 0.7955\n",
      "Epoch 13/20\n",
      "50000/50000 [==============================] - 11s 210us/step - loss: 0.4106 - acc: 0.8564 - val_loss: 0.6386 - val_acc: 0.7973\n",
      "Epoch 14/20\n",
      "50000/50000 [==============================] - 11s 211us/step - loss: 0.4064 - acc: 0.8591 - val_loss: 0.6799 - val_acc: 0.7921\n",
      "Epoch 15/20\n",
      "50000/50000 [==============================] - 10s 209us/step - loss: 0.4067 - acc: 0.8598 - val_loss: 0.6535 - val_acc: 0.7981\n",
      "Epoch 16/20\n",
      "50000/50000 [==============================] - 10s 207us/step - loss: 0.4031 - acc: 0.8593 - val_loss: 0.6624 - val_acc: 0.7898\n",
      "Epoch 17/20\n",
      "50000/50000 [==============================] - 10s 209us/step - loss: 0.3959 - acc: 0.8626 - val_loss: 0.6650 - val_acc: 0.7930\n",
      "Epoch 18/20\n",
      "50000/50000 [==============================] - 10s 209us/step - loss: 0.3995 - acc: 0.8608 - val_loss: 0.6671 - val_acc: 0.7939\n",
      "Epoch 19/20\n",
      "50000/50000 [==============================] - 10s 210us/step - loss: 0.3863 - acc: 0.8651 - val_loss: 0.6597 - val_acc: 0.7905\n",
      "Epoch 20/20\n",
      "50000/50000 [==============================] - 11s 211us/step - loss: 0.3876 - acc: 0.8669 - val_loss: 0.6601 - val_acc: 0.7944\n"
     ]
    },
    {
     "data": {
      "text/plain": [
       "'\\n   第四步：訓練\\n   .fit的一些參數\\n   batch_size：對總的樣本數進行分組，每組包含的樣本數量\\n   epochs ：訓練次數\\n   shuffle：是否把數據隨機打亂之後再進行訓練\\n   validation_split：拿出百分之多少用來做交叉驗證\\n   verbose：屏顯模式 - 0：不輸出, 1：輸出進度, 2：輸出每次的訓練結果\\n'"
      ]
     },
     "execution_count": 15,
     "metadata": {
      "tags": []
     },
     "output_type": "execute_result"
    }
   ],
   "source": [
    "# 第四步訓練，是否要做資料處理\n",
    "if not data_augmentation:\n",
    "    print('Not using data augmentation.')\n",
    "    history=model.fit(x_train, y_train,\n",
    "              batch_size=batch_size,\n",
    "              epochs=epochs,\n",
    "              validation_data=(x_test, y_test),\n",
    "              shuffle=True)\n",
    "else:\n",
    "    print('Using real-time data augmentation.')\n",
    "    print('')\n",
    "        \n",
    "    # This will do preprocessing and realtime data augmentation:\n",
    "    datagen = ImageDataGenerator(\n",
    "        featurewise_center=False,  # set input mean to 0 over the dataset\n",
    "        samplewise_center=False,  # set each sample mean to 0\n",
    "        featurewise_std_normalization=False,  # divide inputs by std of the dataset\n",
    "        samplewise_std_normalization=False,  # divide each input by its std\n",
    "        zca_whitening=False,  # apply ZCA whitening\n",
    "        zca_epsilon=1e-06,  # epsilon for ZCA whitening\n",
    "        rotation_range=0,  # randomly rotate images in the range (degrees, 0 to 180)\n",
    "        # randomly shift images horizontally (fraction of total width)\n",
    "        width_shift_range=0.1,\n",
    "        # randomly shift images vertically (fraction of total height)\n",
    "        height_shift_range=0.1,\n",
    "        shear_range=0.,  # set range for random shear\n",
    "        zoom_range=0.,  # set range for random zoom\n",
    "        channel_shift_range=0.,  # set range for random channel shifts\n",
    "        # set mode for filling points outside the input boundaries\n",
    "        fill_mode='nearest',\n",
    "        cval=0.,  # value used for fill_mode = \"constant\"\n",
    "        horizontal_flip=True,  # randomly flip images\n",
    "        vertical_flip=False,  # randomly flip images\n",
    "        # set rescaling factor (applied before any other transformation)\n",
    "        rescale=None,\n",
    "        # set function that will be applied on each input\n",
    "        preprocessing_function=None,\n",
    "        # image data format, either \"channels_first\" or \"channels_last\"\n",
    "        data_format=None,\n",
    "        # fraction of images reserved for validation (strictly between 0 and 1)\n",
    "        validation_split=0.0)\n",
    "\n",
    "    # Compute quantities required for feature-wise normalization\n",
    "    # (std, mean, and principal components if ZCA whitening is applied).\n",
    "    datagen.fit(x_train)\n",
    "    history=model.fit(x_train, y_train,\n",
    "              batch_size=batch_size,\n",
    "              epochs=epochs,\n",
    "              validation_data=(x_test, y_test),\n",
    "              shuffle=True)   \n",
    "\n",
    "'''\n",
    "   第四步：訓練\n",
    "   .fit的一些參數\n",
    "   batch_size：對總的樣本數進行分組，每組包含的樣本數量\n",
    "   epochs ：訓練次數\n",
    "   shuffle：是否把數據隨機打亂之後再進行訓練\n",
    "   validation_split：拿出百分之多少用來做交叉驗證\n",
    "   verbose：屏顯模式 - 0：不輸出, 1：輸出進度, 2：輸出每次的訓練結果\n",
    "''' \n",
    "    "
   ]
  },
  {
   "cell_type": "code",
   "execution_count": 16,
   "metadata": {
    "colab": {
     "base_uri": "https://localhost:8080/",
     "height": 73
    },
    "colab_type": "code",
    "executionInfo": {
     "elapsed": 428762,
     "status": "ok",
     "timestamp": 1578378391530,
     "user": {
      "displayName": "楊豐豪",
      "photoUrl": "",
      "userId": "02756875908311025376"
     },
     "user_tz": -480
    },
    "id": "AzSjyIjCZWWA",
    "outputId": "6576b26a-31fc-4a6b-eccd-d3edf113b65c"
   },
   "outputs": [
    {
     "name": "stdout",
     "output_type": "stream",
     "text": [
      " test set \n",
      "\n",
      " The test loss is %f  [0.6600960087776184, 0.7943999993801117]\n"
     ]
    }
   ],
   "source": [
    "#第六步：輸出\n",
    "import numpy \n",
    "\n",
    "print ( \" test set \" )\n",
    "scores = model.evaluate(x_test,y_test,batch_size=200,verbose= 0)\n",
    "print ( \"\" )\n",
    "#print ( \" The test loss is %f \" % scores)\n",
    "print ( \" The test loss is %f \", scores)\n",
    "\n",
    "\n",
    "result = model.predict(x_test,batch_size=200,verbose= 0)\n",
    "\n",
    "result_max = numpy.argmax(result, axis = 1 )\n",
    "test_max = numpy.argmax(y_test, axis = 1 )\n",
    "\n",
    "result_bool = numpy.equal(result_max, test_max)\n",
    "true_num = numpy.sum(result_bool)\n"
   ]
  },
  {
   "cell_type": "code",
   "execution_count": 17,
   "metadata": {
    "colab": {
     "base_uri": "https://localhost:8080/",
     "height": 573
    },
    "colab_type": "code",
    "executionInfo": {
     "elapsed": 429522,
     "status": "ok",
     "timestamp": 1578378392308,
     "user": {
      "displayName": "楊豐豪",
      "photoUrl": "",
      "userId": "02756875908311025376"
     },
     "user_tz": -480
    },
    "id": "imG5WIvqZWWI",
    "outputId": "2ce6e8db-b33f-4e04-ebbc-ded83cd7ef55"
   },
   "outputs": [
    {
     "data": {
      "image/png": "[encoded data removed]",
      "text/plain": [
       "<Figure size 432x288 with 1 Axes>"
      ]
     },
     "metadata": {
      "tags": []
     },
     "output_type": "display_data"
    },
    {
     "data": {
      "image/png": "[encoded data removed]",
      "text/plain": [
       "<Figure size 432x288 with 1 Axes>"
      ]
     },
     "metadata": {
      "tags": []
     },
     "output_type": "display_data"
    }
   ],
   "source": [
    "#第七步：繪製報表\n",
    "import matplotlib.pyplot as plt\n",
    "%matplotlib inline\n",
    "\n",
    "# Plot training & validation accuracy values\n",
    "plt.plot(history.history['acc'])\n",
    "plt.plot(history.history['val_acc'])\n",
    "plt.title('Model accuracy')\n",
    "plt.ylabel('Accuracy')\n",
    "plt.xlabel('Epoch')\n",
    "plt.legend(['Train', 'Valiidation'], loc='upper left')\n",
    "plt.show()\n",
    "\n",
    "# Plot training & validation loss values\n",
    "plt.plot(history.history['loss'])\n",
    "plt.plot(history.history['val_loss'])\n",
    "plt.title('Model loss')\n",
    "plt.ylabel('Loss')\n",
    "plt.xlabel('Epoch')\n",
    "plt.legend(['Train', 'Valiidation'], loc='upper left')\n",
    "plt.show()"
   ]
  },
  {
   "cell_type": "code",
   "execution_count": 0,
   "metadata": {
    "colab": {},
    "colab_type": "code",
    "id": "7aB4fEetcedy"
   },
   "outputs": [],
   "source": [
    "#第三步編譯\n",
    "'''\n",
    "RMSprop- Arguments\n",
    "lr: float >= 0. Learning rate.\n",
    "rho: float >= 0.\n",
    "epsilon: float >= 0. Fuzz factor. If None, defaults to K.epsilon().\n",
    "decay: float >= 0. Learning rate decay over each update.\n",
    "'''\n",
    "opt = optimizers.RMSprop(lr=0.001, rho=0, epsilon=None, decay=0.0)\n",
    "model.compile(optimizer = 'adam', loss = 'categorical_crossentropy', metrics = ['accuracy'])\n",
    "\n",
    "\n"
   ]
  },
  {
   "cell_type": "code",
   "execution_count": 19,
   "metadata": {
    "colab": {
     "base_uri": "https://localhost:8080/",
     "height": 858
    },
    "colab_type": "code",
    "executionInfo": {
     "elapsed": 642957,
     "status": "ok",
     "timestamp": 1578378605797,
     "user": {
      "displayName": "楊豐豪",
      "photoUrl": "",
      "userId": "02756875908311025376"
     },
     "user_tz": -480
    },
    "id": "vJxT9oZzdXoO",
    "outputId": "6af3942d-355a-4ef6-9846-d2bdc6b89f3a"
   },
   "outputs": [
    {
     "name": "stdout",
     "output_type": "stream",
     "text": [
      "Using real-time data augmentation.\n",
      "\n",
      "Train on 50000 samples, validate on 10000 samples\n",
      "Epoch 1/20\n",
      "50000/50000 [==============================] - 11s 219us/step - loss: 0.3920 - acc: 0.8652 - val_loss: 0.6799 - val_acc: 0.7975\n",
      "Epoch 2/20\n",
      "50000/50000 [==============================] - 11s 212us/step - loss: 0.3874 - acc: 0.8670 - val_loss: 0.6741 - val_acc: 0.7912\n",
      "Epoch 3/20\n",
      "50000/50000 [==============================] - 11s 214us/step - loss: 0.3868 - acc: 0.8651 - val_loss: 0.6984 - val_acc: 0.7972\n",
      "Epoch 4/20\n",
      "50000/50000 [==============================] - 11s 213us/step - loss: 0.3822 - acc: 0.8697 - val_loss: 0.6599 - val_acc: 0.7977\n",
      "Epoch 5/20\n",
      "50000/50000 [==============================] - 11s 214us/step - loss: 0.3750 - acc: 0.8703 - val_loss: 0.7037 - val_acc: 0.7957\n",
      "Epoch 6/20\n",
      "50000/50000 [==============================] - 11s 215us/step - loss: 0.3683 - acc: 0.8736 - val_loss: 0.6603 - val_acc: 0.7979\n",
      "Epoch 7/20\n",
      "50000/50000 [==============================] - 10s 209us/step - loss: 0.3709 - acc: 0.8719 - val_loss: 0.6795 - val_acc: 0.7909\n",
      "Epoch 8/20\n",
      "50000/50000 [==============================] - 11s 211us/step - loss: 0.3720 - acc: 0.8702 - val_loss: 0.6750 - val_acc: 0.7951\n",
      "Epoch 9/20\n",
      "50000/50000 [==============================] - 11s 213us/step - loss: 0.3612 - acc: 0.8757 - val_loss: 0.7030 - val_acc: 0.7871\n",
      "Epoch 10/20\n",
      "50000/50000 [==============================] - 10s 209us/step - loss: 0.3673 - acc: 0.8744 - val_loss: 0.6885 - val_acc: 0.8011\n",
      "Epoch 11/20\n",
      "50000/50000 [==============================] - 11s 211us/step - loss: 0.3571 - acc: 0.8771 - val_loss: 0.6926 - val_acc: 0.7963\n",
      "Epoch 12/20\n",
      "50000/50000 [==============================] - 11s 211us/step - loss: 0.3543 - acc: 0.8780 - val_loss: 0.6987 - val_acc: 0.7972\n",
      "Epoch 13/20\n",
      "50000/50000 [==============================] - 11s 210us/step - loss: 0.3666 - acc: 0.8759 - val_loss: 0.6698 - val_acc: 0.7925\n",
      "Epoch 14/20\n",
      "50000/50000 [==============================] - 11s 212us/step - loss: 0.3573 - acc: 0.8762 - val_loss: 0.6508 - val_acc: 0.7996\n",
      "Epoch 15/20\n",
      "50000/50000 [==============================] - 11s 211us/step - loss: 0.3493 - acc: 0.8799 - val_loss: 0.7108 - val_acc: 0.7933\n",
      "Epoch 16/20\n",
      "50000/50000 [==============================] - 10s 206us/step - loss: 0.3494 - acc: 0.8791 - val_loss: 0.6481 - val_acc: 0.8010\n",
      "Epoch 17/20\n",
      "50000/50000 [==============================] - 11s 215us/step - loss: 0.3435 - acc: 0.8809 - val_loss: 0.7202 - val_acc: 0.7968\n",
      "Epoch 18/20\n",
      "50000/50000 [==============================] - 11s 216us/step - loss: 0.3400 - acc: 0.8823 - val_loss: 0.7016 - val_acc: 0.7955\n",
      "Epoch 19/20\n",
      "50000/50000 [==============================] - 11s 224us/step - loss: 0.3458 - acc: 0.8811 - val_loss: 0.6957 - val_acc: 0.7941\n",
      "Epoch 20/20\n",
      "50000/50000 [==============================] - 11s 214us/step - loss: 0.3421 - acc: 0.8825 - val_loss: 0.7274 - val_acc: 0.7925\n"
     ]
    },
    {
     "data": {
      "text/plain": [
       "'\\n   第四步：訓練\\n   .fit的一些參數\\n   batch_size：對總的樣本數進行分組，每組包含的樣本數量\\n   epochs ：訓練次數\\n   shuffle：是否把數據隨機打亂之後再進行訓練\\n   validation_split：拿出百分之多少用來做交叉驗證\\n   verbose：屏顯模式 - 0：不輸出, 1：輸出進度, 2：輸出每次的訓練結果\\n'"
      ]
     },
     "execution_count": 19,
     "metadata": {
      "tags": []
     },
     "output_type": "execute_result"
    }
   ],
   "source": [
    "# 第四步訓練，是否要做資料處理\n",
    "if not data_augmentation:\n",
    "    print('Not using data augmentation.')\n",
    "    history=model.fit(x_train, y_train,\n",
    "              batch_size=batch_size,\n",
    "              epochs=epochs,\n",
    "              validation_data=(x_test, y_test),\n",
    "              shuffle=True)\n",
    "else:\n",
    "    print('Using real-time data augmentation.')\n",
    "    print('')\n",
    "        \n",
    "    # This will do preprocessing and realtime data augmentation:\n",
    "    datagen = ImageDataGenerator(\n",
    "        featurewise_center=False,  # set input mean to 0 over the dataset\n",
    "        samplewise_center=False,  # set each sample mean to 0\n",
    "        featurewise_std_normalization=False,  # divide inputs by std of the dataset\n",
    "        samplewise_std_normalization=False,  # divide each input by its std\n",
    "        zca_whitening=False,  # apply ZCA whitening\n",
    "        zca_epsilon=1e-06,  # epsilon for ZCA whitening\n",
    "        rotation_range=0,  # randomly rotate images in the range (degrees, 0 to 180)\n",
    "        # randomly shift images horizontally (fraction of total width)\n",
    "        width_shift_range=0.1,\n",
    "        # randomly shift images vertically (fraction of total height)\n",
    "        height_shift_range=0.1,\n",
    "        shear_range=0.,  # set range for random shear\n",
    "        zoom_range=0.,  # set range for random zoom\n",
    "        channel_shift_range=0.,  # set range for random channel shifts\n",
    "        # set mode for filling points outside the input boundaries\n",
    "        fill_mode='nearest',\n",
    "        cval=0.,  # value used for fill_mode = \"constant\"\n",
    "        horizontal_flip=True,  # randomly flip images\n",
    "        vertical_flip=False,  # randomly flip images\n",
    "        # set rescaling factor (applied before any other transformation)\n",
    "        rescale=None,\n",
    "        # set function that will be applied on each input\n",
    "        preprocessing_function=None,\n",
    "        # image data format, either \"channels_first\" or \"channels_last\"\n",
    "        data_format=None,\n",
    "        # fraction of images reserved for validation (strictly between 0 and 1)\n",
    "        validation_split=0.0)\n",
    "\n",
    "    # Compute quantities required for feature-wise normalization\n",
    "    # (std, mean, and principal components if ZCA whitening is applied).\n",
    "    datagen.fit(x_train)\n",
    "    history=model.fit(x_train, y_train,\n",
    "              batch_size=batch_size,\n",
    "              epochs=epochs,\n",
    "              validation_data=(x_test, y_test),\n",
    "              shuffle=True)   \n",
    "\n",
    "'''\n",
    "   第四步：訓練\n",
    "   .fit的一些參數\n",
    "   batch_size：對總的樣本數進行分組，每組包含的樣本數量\n",
    "   epochs ：訓練次數\n",
    "   shuffle：是否把數據隨機打亂之後再進行訓練\n",
    "   validation_split：拿出百分之多少用來做交叉驗證\n",
    "   verbose：屏顯模式 - 0：不輸出, 1：輸出進度, 2：輸出每次的訓練結果\n",
    "''' \n",
    "    "
   ]
  },
  {
   "cell_type": "code",
   "execution_count": 20,
   "metadata": {
    "colab": {
     "base_uri": "https://localhost:8080/",
     "height": 73
    },
    "colab_type": "code",
    "executionInfo": {
     "elapsed": 643778,
     "status": "ok",
     "timestamp": 1578378606643,
     "user": {
      "displayName": "楊豐豪",
      "photoUrl": "",
      "userId": "02756875908311025376"
     },
     "user_tz": -480
    },
    "id": "ZUYvYt9Lc5GI",
    "outputId": "25a5da4e-5266-4bd9-f2e4-ff72a142b7c5"
   },
   "outputs": [
    {
     "name": "stdout",
     "output_type": "stream",
     "text": [
      " test set \n",
      "\n",
      " The test loss is %f  [0.7273764419555664, 0.7925000035762787]\n"
     ]
    }
   ],
   "source": [
    "#第六步：輸出\n",
    "import numpy \n",
    "\n",
    "print ( \" test set \" )\n",
    "scores = model.evaluate(x_test,y_test,batch_size=200,verbose= 0)\n",
    "print ( \"\" )\n",
    "#print ( \" The test loss is %f \" % scores)\n",
    "print ( \" The test loss is %f \", scores)\n",
    "\n",
    "\n",
    "result = model.predict(x_test,batch_size=200,verbose= 0)\n",
    "\n",
    "result_max = numpy.argmax(result, axis = 1 )\n",
    "test_max = numpy.argmax(y_test, axis = 1 )\n",
    "\n",
    "result_bool = numpy.equal(result_max, test_max)\n",
    "true_num = numpy.sum(result_bool)\n"
   ]
  },
  {
   "cell_type": "code",
   "execution_count": 21,
   "metadata": {
    "colab": {
     "base_uri": "https://localhost:8080/",
     "height": 573
    },
    "colab_type": "code",
    "executionInfo": {
     "elapsed": 644263,
     "status": "ok",
     "timestamp": 1578378607145,
     "user": {
      "displayName": "楊豐豪",
      "photoUrl": "",
      "userId": "02756875908311025376"
     },
     "user_tz": -480
    },
    "id": "ctRS3EtAc6iz",
    "outputId": "323d83f8-19f3-4d48-c377-88b567575c80"
   },
   "outputs": [
    {
     "data": {
      "image/png": "[encoded data removed]",
      "text/plain": [
       "<Figure size 432x288 with 1 Axes>"
      ]
     },
     "metadata": {
      "tags": []
     },
     "output_type": "display_data"
    },
    {
     "data": {
      "image/png": "[encoded data removed]",
      "text/plain": [
       "<Figure size 432x288 with 1 Axes>"
      ]
     },
     "metadata": {
      "tags": []
     },
     "output_type": "display_data"
    }
   ],
   "source": [
    "#第七步：繪製報表\n",
    "import matplotlib.pyplot as plt\n",
    "%matplotlib inline\n",
    "\n",
    "# Plot training & validation accuracy values\n",
    "plt.plot(history.history['acc'])\n",
    "plt.plot(history.history['val_acc'])\n",
    "plt.title('Model accuracy')\n",
    "plt.ylabel('Accuracy')\n",
    "plt.xlabel('Epoch')\n",
    "plt.legend(['Train', 'Valiidation'], loc='upper left')\n",
    "plt.show()\n",
    "\n",
    "# Plot training & validation loss values\n",
    "plt.plot(history.history['loss'])\n",
    "plt.plot(history.history['val_loss'])\n",
    "plt.title('Model loss')\n",
    "plt.ylabel('Loss')\n",
    "plt.xlabel('Epoch')\n",
    "plt.legend(['Train', 'Valiidation'], loc='upper left')\n",
    "plt.show()"
   ]
  },
  {
   "cell_type": "code",
   "execution_count": 0,
   "metadata": {
    "colab": {},
    "colab_type": "code",
    "id": "a8fNaXQVZWWX"
   },
   "outputs": [],
   "source": []
  }
 ],
 "metadata": {
  "accelerator": "GPU",
  "colab": {
   "collapsed_sections": [],
   "name": "Day_076-optimizer_HW.ipynb",
   "provenance": []
  },
  "kernelspec": {
   "display_name": "Python 3",
   "language": "python",
   "name": "python3"
  },
  "language_info": {
   "codemirror_mode": {
    "name": "ipython",
    "version": 3
   },
   "file_extension": ".py",
   "mimetype": "text/x-python",
   "name": "python",
   "nbconvert_exporter": "python",
   "pygments_lexer": "ipython3",
   "version": "3.7.3"
  }
 },
 "nbformat": 4,
 "nbformat_minor": 1
}
