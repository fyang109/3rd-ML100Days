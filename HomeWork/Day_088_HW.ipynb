{
 "cells": [
  {
   "cell_type": "markdown",
   "metadata": {},
   "source": [
    "## Work\n",
    "1. 請嘗試寫一個 callback 用來記錄各類別在訓練過程中，對驗證集的 True Positive 與 True Negative"
   ]
  },
  {
   "cell_type": "code",
   "execution_count": 1,
   "metadata": {},
   "outputs": [
    {
     "name": "stderr",
     "output_type": "stream",
     "text": [
      "Using TensorFlow backend.\n"
     ]
    }
   ],
   "source": [
    "import os\n",
    "import keras\n",
    "\n",
    "# Disable GPU\n",
    "os.environ[\"CUDA_VISIBLE_DEVICES\"] = \"0\""
   ]
  },
  {
   "cell_type": "code",
   "execution_count": 2,
   "metadata": {},
   "outputs": [],
   "source": [
    "train, test = keras.datasets.cifar10.load_data()"
   ]
  },
  {
   "cell_type": "code",
   "execution_count": 3,
   "metadata": {},
   "outputs": [],
   "source": [
    "## 資料前處理\n",
    "def preproc_x(x, flatten=True):\n",
    "    x = x / 255.\n",
    "    if flatten:\n",
    "        x = x.reshape((len(x), -1))\n",
    "    return x\n",
    "\n",
    "def preproc_y(y, num_classes=10):\n",
    "    if y.shape[-1] == 1:\n",
    "        y = keras.utils.to_categorical(y, num_classes)\n",
    "    return y    "
   ]
  },
  {
   "cell_type": "code",
   "execution_count": 4,
   "metadata": {},
   "outputs": [],
   "source": [
    "x_train, y_train = train\n",
    "x_test, y_test = test\n",
    "\n",
    "# Preproc the inputs\n",
    "x_train = preproc_x(x_train)\n",
    "x_test = preproc_x(x_test)\n",
    "\n",
    "# Preprc the outputs\n",
    "y_train = preproc_y(y_train)\n",
    "y_test = preproc_y(y_test)"
   ]
  },
  {
   "cell_type": "code",
   "execution_count": 5,
   "metadata": {},
   "outputs": [],
   "source": [
    "from keras.layers import BatchNormalization\n",
    "\"\"\"\n",
    "建立神經網路，並加入 BN layer\n",
    "\"\"\"\n",
    "def build_mlp(input_shape, output_units=10, num_neurons=[512, 256, 128]):\n",
    "    input_layer = keras.layers.Input(input_shape)\n",
    "    \n",
    "    for i, n_units in enumerate(num_neurons):\n",
    "        if i == 0:\n",
    "            x = keras.layers.Dense(units=n_units, \n",
    "                                   activation=\"relu\", \n",
    "                                   name=\"hidden_layer\"+str(i+1))(input_layer)\n",
    "            x = BatchNormalization()(x)\n",
    "        else:\n",
    "            x = keras.layers.Dense(units=n_units, \n",
    "                                   activation=\"relu\", \n",
    "                                   name=\"hidden_layer\"+str(i+1))(x)\n",
    "            x = BatchNormalization()(x)\n",
    "    \n",
    "    out = keras.layers.Dense(units=output_units, activation=\"softmax\", name=\"output\")(x)\n",
    "    \n",
    "    model = keras.models.Model(inputs=[input_layer], outputs=[out])\n",
    "    return model"
   ]
  },
  {
   "cell_type": "code",
   "execution_count": 6,
   "metadata": {},
   "outputs": [],
   "source": [
    "## 超參數設定\n",
    "LEARNING_RATE = 1e-3\n",
    "EPOCHS = 25\n",
    "BATCH_SIZE = 1024\n",
    "MOMENTUM = 0.95"
   ]
  },
  {
   "cell_type": "code",
   "execution_count": 7,
   "metadata": {},
   "outputs": [],
   "source": [
    "# 載入 Callbacks\n",
    "from keras.callbacks import Callback\n",
    "import numpy as np\n",
    "\n",
    "# Record_fp_tp\n",
    "#撰寫一個紀錄 ture positive 與 true negative 數量的 callbacks    \n",
    "class Record_tp_tn(Callback):\n",
    "    \n",
    "    def on_train_begin(self, epoch, logs = {}):\n",
    "        logs = logs or {}\n",
    "        record_items = [\"val_tp\", \"val_tn\"]\n",
    "        for i in record_items:\n",
    "            if i not in self.params['metrics']:\n",
    "                self.params['metrics'].append(i)\n",
    "    \n",
    "    def on_epoch_end(self, epoch, logs = {}, thres=0.5):\n",
    "        logs = logs or {}\n",
    "        y_true = self.validation_data[1].argmax(axis = 1)\n",
    "        y_pred = self.model.predict(self.validation_data[0])\n",
    "        y_pred = (y_pred[:, 1] >= thres) * 1\n",
    "        \n",
    "        y_pred_pos = np.round(np.clip(y_pred, 0, 1))\n",
    "        y_pred_neg = 1 - y_pred_pos\n",
    "        y_pos = np.round(np.clip(y_true, 0, 1))\n",
    "        y_neg = 1 - y_pos\n",
    "\n",
    "        logs[\"val_tp\"] = np.sum(y_pos * y_pred_pos)\n",
    "        logs[\"val_tn\"] = np.sum(y_neg * y_pred_neg)\n",
    "        \n",
    "rec_tptn = Record_tp_tn()"
   ]
  },
  {
   "cell_type": "code",
   "execution_count": 8,
   "metadata": {
    "scrolled": true
   },
   "outputs": [
    {
     "name": "stdout",
     "output_type": "stream",
     "text": [
      "Model: \"model_1\"\n",
      "_________________________________________________________________\n",
      "Layer (type)                 Output Shape              Param #   \n",
      "=================================================================\n",
      "input_1 (InputLayer)         (None, 3072)              0         \n",
      "_________________________________________________________________\n",
      "hidden_layer1 (Dense)        (None, 512)               1573376   \n",
      "_________________________________________________________________\n",
      "batch_normalization_1 (Batch (None, 512)               2048      \n",
      "_________________________________________________________________\n",
      "hidden_layer2 (Dense)        (None, 256)               131328    \n",
      "_________________________________________________________________\n",
      "batch_normalization_2 (Batch (None, 256)               1024      \n",
      "_________________________________________________________________\n",
      "hidden_layer3 (Dense)        (None, 128)               32896     \n",
      "_________________________________________________________________\n",
      "batch_normalization_3 (Batch (None, 128)               512       \n",
      "_________________________________________________________________\n",
      "output (Dense)               (None, 10)                1290      \n",
      "=================================================================\n",
      "Total params: 1,742,474\n",
      "Trainable params: 1,740,682\n",
      "Non-trainable params: 1,792\n",
      "_________________________________________________________________\n",
      "Train on 50000 samples, validate on 10000 samples\n",
      "Epoch 1/25\n",
      "50000/50000 [==============================] - 8s 163us/step - loss: 2.2163 - accuracy: 0.2708 - val_loss: 2.1227 - val_accuracy: 0.2156\n",
      "Epoch 2/25\n",
      "50000/50000 [==============================] - 7s 149us/step - loss: 1.7161 - accuracy: 0.4019 - val_loss: 1.9605 - val_accuracy: 0.2959\n",
      "Epoch 3/25\n",
      "50000/50000 [==============================] - 7s 148us/step - loss: 1.5949 - accuracy: 0.4400 - val_loss: 1.8338 - val_accuracy: 0.3493\n",
      "Epoch 4/25\n",
      "50000/50000 [==============================] - 7s 149us/step - loss: 1.5246 - accuracy: 0.4664 - val_loss: 1.7085 - val_accuracy: 0.3994\n",
      "Epoch 5/25\n",
      "50000/50000 [==============================] - 8s 161us/step - loss: 1.4718 - accuracy: 0.4848 - val_loss: 1.6345 - val_accuracy: 0.4282\n",
      "Epoch 6/25\n",
      "50000/50000 [==============================] - 9s 183us/step - loss: 1.4283 - accuracy: 0.5018 - val_loss: 1.5707 - val_accuracy: 0.4476\n",
      "Epoch 7/25\n",
      "50000/50000 [==============================] - 9s 171us/step - loss: 1.3905 - accuracy: 0.5133 - val_loss: 1.5476 - val_accuracy: 0.4554\n",
      "Epoch 8/25\n",
      "50000/50000 [==============================] - 8s 167us/step - loss: 1.3561 - accuracy: 0.5256 - val_loss: 1.5178 - val_accuracy: 0.4602\n",
      "Epoch 9/25\n",
      "50000/50000 [==============================] - 9s 175us/step - loss: 1.3231 - accuracy: 0.5400 - val_loss: 1.5016 - val_accuracy: 0.4713\n",
      "Epoch 10/25\n",
      "50000/50000 [==============================] - 8s 154us/step - loss: 1.2949 - accuracy: 0.5488 - val_loss: 1.4911 - val_accuracy: 0.4714\n",
      "Epoch 11/25\n",
      "50000/50000 [==============================] - 8s 157us/step - loss: 1.2673 - accuracy: 0.5599 - val_loss: 1.4808 - val_accuracy: 0.4746\n",
      "Epoch 12/25\n",
      "50000/50000 [==============================] - 8s 155us/step - loss: 1.2400 - accuracy: 0.5709 - val_loss: 1.4829 - val_accuracy: 0.4731\n",
      "Epoch 13/25\n",
      "50000/50000 [==============================] - 8s 155us/step - loss: 1.2161 - accuracy: 0.5787 - val_loss: 1.4751 - val_accuracy: 0.4759\n",
      "Epoch 14/25\n",
      "50000/50000 [==============================] - 8s 158us/step - loss: 1.1886 - accuracy: 0.5875 - val_loss: 1.4663 - val_accuracy: 0.4828\n",
      "Epoch 15/25\n",
      "50000/50000 [==============================] - 9s 172us/step - loss: 1.1661 - accuracy: 0.5992 - val_loss: 1.4686 - val_accuracy: 0.4829\n",
      "Epoch 16/25\n",
      "50000/50000 [==============================] - 8s 157us/step - loss: 1.1427 - accuracy: 0.6063 - val_loss: 1.4676 - val_accuracy: 0.4884\n",
      "Epoch 17/25\n",
      "50000/50000 [==============================] - 8s 163us/step - loss: 1.1198 - accuracy: 0.6170 - val_loss: 1.4600 - val_accuracy: 0.4850\n",
      "Epoch 18/25\n",
      "50000/50000 [==============================] - 8s 155us/step - loss: 1.0957 - accuracy: 0.6249 - val_loss: 1.4551 - val_accuracy: 0.4921\n",
      "Epoch 19/25\n",
      "50000/50000 [==============================] - 8s 159us/step - loss: 1.0739 - accuracy: 0.6340 - val_loss: 1.4943 - val_accuracy: 0.4816\n",
      "Epoch 20/25\n",
      "50000/50000 [==============================] - 8s 156us/step - loss: 1.0519 - accuracy: 0.6423 - val_loss: 1.4609 - val_accuracy: 0.4881\n",
      "Epoch 21/25\n",
      "50000/50000 [==============================] - 8s 156us/step - loss: 1.0307 - accuracy: 0.6490 - val_loss: 1.4588 - val_accuracy: 0.4950\n",
      "Epoch 22/25\n",
      "50000/50000 [==============================] - 8s 155us/step - loss: 1.0094 - accuracy: 0.6582 - val_loss: 1.4686 - val_accuracy: 0.4922\n",
      "Epoch 23/25\n",
      "50000/50000 [==============================] - 8s 157us/step - loss: 0.9878 - accuracy: 0.6663 - val_loss: 1.4907 - val_accuracy: 0.4836\n",
      "Epoch 24/25\n",
      "50000/50000 [==============================] - 8s 159us/step - loss: 0.9664 - accuracy: 0.6741 - val_loss: 1.4670 - val_accuracy: 0.4938\n",
      "Epoch 25/25\n",
      "50000/50000 [==============================] - 8s 156us/step - loss: 0.9463 - accuracy: 0.6817 - val_loss: 1.4767 - val_accuracy: 0.4915\n"
     ]
    }
   ],
   "source": [
    "model = build_mlp(input_shape=x_train.shape[1:])\n",
    "model.summary()\n",
    "optimizer = keras.optimizers.SGD(lr=LEARNING_RATE, nesterov=True, momentum=MOMENTUM)\n",
    "model.compile(loss=\"categorical_crossentropy\", metrics=[\"accuracy\"], optimizer=optimizer)\n",
    "\n",
    "model.fit(x_train, y_train, \n",
    "          epochs=EPOCHS, \n",
    "          batch_size=BATCH_SIZE, \n",
    "          validation_data=(x_test, y_test), \n",
    "          shuffle=True,\n",
    "          callbacks=[rec_tptn]\n",
    "         )\n",
    "\n",
    "\n",
    "# Collect results\n",
    "train_loss = model.history.history[\"loss\"]\n",
    "valid_loss = model.history.history[\"val_loss\"]\n",
    "train_acc = model.history.history[\"accuracy\"]\n",
    "valid_acc = model.history.history[\"val_accuracy\"]\n",
    "\n",
    "\"\"\"Code Here\n",
    "將 tp/tn 從訓練完的模型中取出\n",
    "\"\"\"\n",
    "valid_tp = model.history.history['val_tp']\n",
    "valid_tn = model.history.history['val_tn']"
   ]
  },
  {
   "cell_type": "code",
   "execution_count": 9,
   "metadata": {
    "scrolled": true
   },
   "outputs": [
    {
     "data": {
      "image/png": "[encoded data removed]",
      "text/plain": [
       "<Figure size 432x288 with 1 Axes>"
      ]
     },
     "metadata": {
      "needs_background": "light"
     },
     "output_type": "display_data"
    },
    {
     "data": {
      "image/png": "[encoded data removed]",
      "text/plain": [
       "<Figure size 432x288 with 1 Axes>"
      ]
     },
     "metadata": {
      "needs_background": "light"
     },
     "output_type": "display_data"
    },
    {
     "data": {
      "image/png": "[encoded data removed]",
      "text/plain": [
       "<Figure size 432x288 with 1 Axes>"
      ]
     },
     "metadata": {
      "needs_background": "light"
     },
     "output_type": "display_data"
    }
   ],
   "source": [
    "import matplotlib.pyplot as plt\n",
    "%matplotlib inline\n",
    "\n",
    "plt.plot(range(len(train_loss)), train_loss, label=\"train loss\")\n",
    "plt.plot(range(len(valid_loss)), valid_loss, label=\"valid loss\")\n",
    "plt.legend()\n",
    "plt.title(\"Loss\")\n",
    "plt.show()\n",
    "\n",
    "plt.plot(range(len(train_acc)), train_acc, label=\"train accuracy\")\n",
    "plt.plot(range(len(valid_acc)), valid_acc, label=\"valid accuracy\")\n",
    "plt.legend()\n",
    "plt.title(\"Accuracy\")\n",
    "plt.show()\n",
    "\n",
    "plt.plot(range(len(valid_tp)), valid_tp, label=\"valid tp\", color=\"navy\")\n",
    "plt.plot(range(len(valid_tn)), valid_tn, label=\"valid tn\", color=\"red\")\n",
    "plt.legend()\n",
    "plt.title(\"True positives and True Negatives\")\n",
    "plt.show()\n"
   ]
  }
 ],
 "metadata": {
  "kernelspec": {
   "display_name": "Python 3",
   "language": "python",
   "name": "python3"
  },
  "language_info": {
   "codemirror_mode": {
    "name": "ipython",
    "version": 3
   },
   "file_extension": ".py",
   "mimetype": "text/x-python",
   "name": "python",
   "nbconvert_exporter": "python",
   "pygments_lexer": "ipython3",
   "version": "3.7.3"
  }
 },
 "nbformat": 4,
 "nbformat_minor": 2
}
